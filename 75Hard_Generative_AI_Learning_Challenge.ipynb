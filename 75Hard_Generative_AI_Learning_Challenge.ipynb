{
  "nbformat": 4,
  "nbformat_minor": 0,
  "metadata": {
    "colab": {
      "provenance": []
    },
    "kernelspec": {
      "name": "python3",
      "display_name": "Python 3"
    },
    "language_info": {
      "name": "python"
    }
  },
  "cells": [
    {
      "cell_type": "markdown",
      "source": [
        "# **Day - 4**\n",
        "## **Optimization Techniques**\n",
        "\n",
        "## Working Code of **Stochastic Gradient Descent (SGD)** using Python and Tensorflow\n",
        "\n",
        "**Video Link -** https://youtu.be/6wAKUqzgOms"
      ],
      "metadata": {
        "id": "SYJdjQGf817i"
      }
    },
    {
      "cell_type": "code",
      "execution_count": null,
      "metadata": {
        "colab": {
          "base_uri": "https://localhost:8080/"
        },
        "id": "HjJoTqfR8nij",
        "outputId": "85e6c5b2-a07e-461f-d70d-08cc889a2eab"
      },
      "outputs": [
        {
          "output_type": "stream",
          "name": "stdout",
          "text": [
            " ------------- Data Creation Done ----------------- \n",
            " -------------Epoches Model Training----------------- \n",
            "Epoch 0, Loss: 15.18087387084961\n",
            "Epoch 10, Loss: 9.341418266296387\n",
            "Epoch 20, Loss: 5.800542831420898\n",
            "Epoch 30, Loss: 3.6519951820373535\n",
            "Epoch 40, Loss: 2.346867322921753\n",
            "Epoch 50, Loss: 1.5526927709579468\n",
            "Epoch 60, Loss: 1.06809663772583\n",
            "Epoch 70, Loss: 0.771107017993927\n",
            "Epoch 80, Loss: 0.5878450870513916\n",
            "Epoch 90, Loss: 0.4735606908798218\n",
            " ---------------------------------------- \n",
            "Mean Absolute Error (MAE): 0.5261561274528503\n",
            "R-squared (R2) Score: 0.48079368280965806\n",
            " ---------------------------------------- \n",
            "Learned parameters:\n",
            "[array([[1.0056099]], dtype=float32), array([2.6917145], dtype=float32)]\n"
          ]
        }
      ],
      "source": [
        "import tensorflow as tf\n",
        "import numpy as np\n",
        "from sklearn.metrics import mean_absolute_error, r2_score\n",
        "\n",
        "# Function to generate dummy data\n",
        "def generate_dummy_data():\n",
        "    np.random.seed(42)\n",
        "    X_train = np.random.rand(100, 1)  # 100 samples, 1 feature\n",
        "    y_train = 3 * X_train + 2 + 0.1 * np.random.randn(100, 1)  # Linear relationship with some noise\n",
        "    return X_train.astype(np.float32), y_train.astype(np.float32)\n",
        "\n",
        "# Function to create a simple linear regression model\n",
        "def create_neural_network():\n",
        "    model = tf.keras.Sequential([\n",
        "        tf.keras.layers.Input(shape=(1,)),\n",
        "        tf.keras.layers.Dense(units=1)  # Linear layer with one unit for regression\n",
        "    ])\n",
        "    return model\n",
        "\n",
        "# Loss function for regression (Mean Squared Error)\n",
        "def loss_function(y_true, y_pred):\n",
        "    return tf.reduce_mean(tf.square(y_true - y_pred))\n",
        "\n",
        "# Dummy data\n",
        "print(\" ------------- Data Creation Done ----------------- \")\n",
        "X_train, y_train = generate_dummy_data()\n",
        "\n",
        "# Model definition\n",
        "model = create_neural_network()\n",
        "\n",
        "# Optimizer setup\n",
        "optimizer = tf.keras.optimizers.SGD(learning_rate=0.01)\n",
        "\n",
        "# Training loop\n",
        "num_epochs = 100\n",
        "print(\" -------------Epoches Model Training----------------- \")\n",
        "for epoch in range(num_epochs):\n",
        "    with tf.GradientTape() as tape:\n",
        "        predictions = model(X_train)\n",
        "        loss = loss_function(y_train, predictions)\n",
        "\n",
        "    gradients = tape.gradient(loss, model.trainable_variables)\n",
        "    optimizer.apply_gradients(zip(gradients, model.trainable_variables))\n",
        "\n",
        "    if epoch % 10 == 0:\n",
        "        print(f'Epoch {epoch}, Loss: {loss.numpy()}')\n",
        "\n",
        "\n",
        "# Evaluate model performance\n",
        "predictions = model(X_train)\n",
        "\n",
        "# Convert predictions and true values to numpy arrays\n",
        "y_pred_np = predictions.numpy().flatten()\n",
        "y_true_np = y_train.flatten()\n",
        "\n",
        "# Calculate Mean Absolute Error (MAE) and R-squared (R2) score\n",
        "mae = mean_absolute_error(y_true_np, y_pred_np)\n",
        "r2 = r2_score(y_true_np, y_pred_np)\n",
        "\n",
        "print(\" ---------------------------------------- \")\n",
        "print(f'Mean Absolute Error (MAE): {mae}')\n",
        "print(f'R-squared (R2) Score: {r2}')\n",
        "print(\" ---------------------------------------- \")\n",
        "\n",
        "# Check the learned parameters\n",
        "print(\"Learned parameters:\")\n",
        "for layer in model.layers:\n",
        "    print(layer.get_weights())"
      ]
    },
    {
      "cell_type": "markdown",
      "source": [
        "## **ADAM Optimizer**"
      ],
      "metadata": {
        "id": "vmhJNx0nD0Q9"
      }
    },
    {
      "cell_type": "code",
      "source": [
        "import tensorflow as tf\n",
        "import numpy as np\n",
        "from sklearn.metrics import mean_absolute_error, r2_score\n",
        "\n",
        "# Function to generate dummy data\n",
        "def generate_dummy_data():\n",
        "    np.random.seed(42)\n",
        "    X_train = np.random.rand(100, 1)  # 100 samples, 1 feature\n",
        "    y_train = 3 * X_train + 2 + 0.1 * np.random.randn(100, 1)  # Linear relationship with some noise\n",
        "    return X_train.astype(np.float32), y_train.astype(np.float32)\n",
        "\n",
        "# Function to create a simple linear regression model\n",
        "def create_neural_network():\n",
        "    model = tf.keras.Sequential([\n",
        "        tf.keras.layers.Input(shape=(1,)),\n",
        "        tf.keras.layers.Dense(units=1)  # Linear layer with one unit for regression\n",
        "    ])\n",
        "    return model\n",
        "\n",
        "# Loss function for regression (Mean Squared Error)\n",
        "def loss_function(y_true, y_pred):\n",
        "    return tf.reduce_mean(tf.square(y_true - y_pred))\n",
        "\n",
        "# Dummy data\n",
        "X_train, y_train = generate_dummy_data()\n",
        "\n",
        "# Model definition\n",
        "model_adam = create_neural_network()\n",
        "\n",
        "# Optimizer setup\n",
        "learning_rate_adam = 0.01\n",
        "\n",
        "optimizer_adam = tf.keras.optimizers.Adam(learning_rate=learning_rate_adam, beta_1=0.01, beta_2=0.1, epsilon=1e-05)\n",
        "\n",
        "# Training loop for Adam\n",
        "for epoch in range(num_epochs):\n",
        "    with tf.GradientTape() as tape:\n",
        "        predictions = model_adam(X_train)\n",
        "        loss = loss_function(y_train, predictions)\n",
        "\n",
        "    gradients = tape.gradient(loss, model_adam.trainable_variables)\n",
        "    optimizer_adam.apply_gradients(zip(gradients, model_adam.trainable_variables))\n",
        "\n",
        "    if epoch % 10 == 0:\n",
        "        print(f'Adam - Epoch {epoch}, Loss: {loss.numpy()}')\n",
        "\n",
        "# Evaluate model performance for Adam\n",
        "predictions_adam = model_adam(X_train)\n",
        "y_pred_adam = predictions_adam.numpy().flatten()\n",
        "mae_adam = mean_absolute_error(y_train.flatten(), y_pred_adam)\n",
        "r2_adam = r2_score(y_train.flatten(), y_pred_adam)\n",
        "print('\\nAdam Results:')\n",
        "print(f'Mean Absolute Error (MAE): {mae_adam}')\n",
        "print(f'R-squared (R2) Score: {r2_adam}')"
      ],
      "metadata": {
        "colab": {
          "base_uri": "https://localhost:8080/"
        },
        "id": "LxMjZjkN9Hd-",
        "outputId": "bfead001-573c-4d3e-dddd-d34ba5504294"
      },
      "execution_count": null,
      "outputs": [
        {
          "output_type": "stream",
          "name": "stdout",
          "text": [
            "Adam - Epoch 0, Loss: 7.439562797546387\n",
            "Adam - Epoch 10, Loss: 6.645547389984131\n",
            "Adam - Epoch 20, Loss: 5.896543502807617\n",
            "Adam - Epoch 30, Loss: 5.1924920082092285\n",
            "Adam - Epoch 40, Loss: 4.533390998840332\n",
            "Adam - Epoch 50, Loss: 3.9192392826080322\n",
            "Adam - Epoch 60, Loss: 3.3500332832336426\n",
            "Adam - Epoch 70, Loss: 2.825770854949951\n",
            "Adam - Epoch 80, Loss: 2.3464479446411133\n",
            "Adam - Epoch 90, Loss: 1.9120614528656006\n",
            "\n",
            "Adam Results:\n",
            "Mean Absolute Error (MAE): 1.2240923643112183\n",
            "R-squared (R2) Score: 0.9707154198241725\n"
          ]
        }
      ]
    },
    {
      "cell_type": "markdown",
      "source": [
        "# **DAY-5**\n",
        "## **NLP Stage-1**\n",
        "- What is NLP?\n",
        "- Significance of NLP?\n",
        "- Why NLP in Generative AI?\n",
        "- Types of NLP Algorithms\n",
        "- Latest Advancements in NLP.\n",
        "\n",
        "**Video Link** - https://youtu.be/CBtHgX-DHwk"
      ],
      "metadata": {
        "id": "vpoelzFWvs3c"
      }
    },
    {
      "cell_type": "markdown",
      "source": [
        "## **Latest Advancements in Natural Language Processing until Jan 2024**\n",
        "\n",
        "The world of NLP and generative AI is constantly evolving, pushing the boundaries of what these technologies can achieve. Here are some of the latest advancements, with a focus on generative AI:\n",
        "\n",
        "### **Model advancements:**\n",
        "\n",
        "- **PaLM 540B**: Google's behemoth model boasts impressive performance across reasoning tasks and benchmarks.\n",
        "\n",
        "- **Megatron-Turing NLG**: Microsoft's 530B parameter model specializes in creative text formats like poetry, code, and scripts.\n",
        "\n",
        "- **Jurassic-1 Jumbo**: This 178B parameter LLM excels at factual language tasks like question answering and summarization.\n",
        "\n",
        "- **BARD**: Google AI's new model with a focus on factual language, code generation, and open-ended creative tasks.\n",
        "\n",
        "### **Technical breakthroughs:**\n",
        "\n",
        "- **Diffusion models**: These models, like Disco Diffusion v5, are revolutionizing image generation with greater control and artistic direction.\n",
        "\n",
        "- **Reinforcement learning (RL):** Emerging advancements in RL are improving dialogue generation and machine translation.\n",
        "\n",
        "- **Multimodal NLP**: Models are now integrating text with other modalities like images and audio, leading to richer and more context-aware results.\n",
        "\n",
        "### **Specific applications:**\n",
        "\n",
        "- **AI-powered music and art:** Tools like MuseNet and Jukebox are creating stunning and original compositions while pushing the boundaries of artistic expression.\n",
        "\n",
        "- **Generative AI in scientific discovery:**AI models are assisting with data analysis, hypothesis generation, and research acceleration.\n",
        "\n",
        "- **Enhanced chatbots and virtual assistants:**LLMs are making these tools more sophisticated and engaging, enabling natural and informative interactions.\n",
        "\n",
        "- **Personalized content creation:** Generative AI can tailor marketing copy, educational materials, and even product descriptions to specific audiences.\n",
        "\n",
        "### **Ethical considerations:**\n",
        "\n",
        "- **Deepfakes and misinformation**: Malicious use of generative AI to create fake content raises concerns about authenticity and trust.\n",
        "\n",
        "- **Bias and fairness:** Models can inherit biases from training data, necessitating careful data selection and mitigation strategies.\n",
        "\n",
        "- **Explainability and interpretability**: Understanding how models generate outputs is crucial for responsible development and use.\n",
        "\n",
        "### **Trends to watch:**\n",
        "\n",
        "- **Open-source models**: Initiatives like Bloom aim to democratize access and transparency in LLM development.\n",
        "\n",
        "- **Hybrid human-AI collaboration**: Combining human creativity with AI capabilities can lead to even more impressive outcomes.\n",
        "\n",
        "- **Focus on responsible and ethical AI:** As the field matures, ethical considerations and responsible development practices are becoming increasingly important."
      ],
      "metadata": {
        "id": "LKnvVtAtyzzZ"
      }
    },
    {
      "cell_type": "markdown",
      "source": [
        "# **DAY-6**\n",
        "## **NLP Stage-2**\n",
        "- Data Pre-Processing Techniques Explained\n",
        "\n",
        "**Video Link** -\n",
        "\n",
        "Data Pre-Processing means changing the raw data into a clean data set. The dataset is preprocessed in order to check missing values, noisy data, and other inconsistencies before executing it to the algorithm.\n",
        "\n",
        "In NLP, Data Pre-Processing Techniques make the raw textual data into numerical form so that it is easy to understand by algorithms because algorithms understand numerical data only.\n",
        "So data needs to be transformed in such a way that it's meaning should keep intact and also it should be converted into numerical form.\n",
        "\n",
        "## **1.Tokeniztion**\n",
        "Tokenization in NLP involves breaking down a text into smaller units, which are typically words or subwords. The resulting units are called tokens. Tokenization is a crucial step in language processing because it transforms raw text into a format that is suitable for analysis and machine learning.\n",
        "\n",
        "![Tokenization](data:image/png;base64,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)\n",
        "\n",
        "### **Why Tokenization?**\n",
        "- Text Understanding\n",
        "- Feature Extraction\n",
        "- Text Analysis\n",
        "\n",
        "### **Types of Tokenization**\n",
        "- Word Tokenization - Breaks text into words based on spaces and punctuation. Example: \"Natural Language Processing\" → [\"Natural\", \"Language\", \"Processing\"]\n",
        "\n",
        "- Sentence Tokenization - Splits text into sentences. Example: \"NLP is fascinating. It has various applications.\" → [\"NLP is fascinating.\", \"It has various applications.\"]\n",
        "\n",
        "- Subword Tokenization - Breaks words into smaller units, often useful for languages with complex morphology. Example: \"tokenization\" → [\"to\", \"ken\", \"iza\", \"tion\"]\n",
        "\n",
        "### **Tokenization Techniques**\n",
        "- Rule-Based Tokenization - Discussed on Day-5\n",
        "- Statistical Tokenization - Discussed on Day-5\n",
        "- Tokenization Libraries - Same as Word Tokenization\n",
        "\n",
        "\n",
        "### **Pros and Cons:**\n",
        "\n",
        "- **Pros:**\n",
        "Enables language understanding for machines.\n",
        "Forms the basis for various NLP tasks.\n",
        "Facilitates feature extraction for machine learning models.\n",
        "\n",
        "- **Cons:**\n",
        "Ambiguity in tokenization rules for certain languages or contexts.\n",
        "Challenges with handling slang, abbreviations, and domain-specific terms."
      ],
      "metadata": {
        "id": "kxJlk0DhCDg3"
      }
    },
    {
      "cell_type": "code",
      "source": [
        "from nltk.tokenize import word_tokenize\n",
        "\n",
        "text = \"Tokenization is a key process in Natural Language Processing. It breaks text into words and sentences.\"\n",
        "\n",
        "# Word Tokenization\n",
        "word_tokens = word_tokenize(text)\n",
        "print(\"Word Tokens:\", word_tokens)"
      ],
      "metadata": {
        "id": "QWEaMnaCD4dH",
        "colab": {
          "base_uri": "https://localhost:8080/"
        },
        "outputId": "b9c0ba85-5063-45fb-c945-35fa03d5edfa"
      },
      "execution_count": null,
      "outputs": [
        {
          "output_type": "stream",
          "name": "stdout",
          "text": [
            "Word Tokens: ['Tokenization', 'is', 'a', 'key', 'process', 'in', 'Natural', 'Language', 'Processing', '.', 'It', 'breaks', 'text', 'into', 'words', 'and', 'sentences', '.']\n"
          ]
        }
      ]
    },
    {
      "cell_type": "code",
      "source": [
        "from nltk.tokenize import sent_tokenize\n",
        "\n",
        "# Sentence Tokenization\n",
        "sentence_tokens = sent_tokenize(text)\n",
        "print(\"Sentence Tokens:\", sentence_tokens)"
      ],
      "metadata": {
        "colab": {
          "base_uri": "https://localhost:8080/"
        },
        "id": "Yf2AG_Meym-v",
        "outputId": "522231f5-0891-4d3a-bd9d-2d0b456d7230"
      },
      "execution_count": null,
      "outputs": [
        {
          "output_type": "stream",
          "name": "stdout",
          "text": [
            "Sentence Tokens: ['Tokenization is a key process in Natural Language Processing.', 'It breaks text into words and sentences.']\n"
          ]
        }
      ]
    },
    {
      "cell_type": "code",
      "source": [
        "# Subword Tokenization Example\n",
        "word = \"tokenization\"\n",
        "subword_tokens = [word[i:i+2] for i in range(0, len(word), 2)]\n",
        "print(f\"\\nExample: \\\"{word}\\\" → {subword_tokens}\")"
      ],
      "metadata": {
        "colab": {
          "base_uri": "https://localhost:8080/"
        },
        "id": "AkHOsgJgy5aj",
        "outputId": "6083b9c7-df68-4ce0-d2ec-42dcaf8875e0"
      },
      "execution_count": null,
      "outputs": [
        {
          "output_type": "stream",
          "name": "stdout",
          "text": [
            "\n",
            "Example: \"tokenization\" → ['to', 'ke', 'ni', 'za', 'ti', 'on']\n"
          ]
        }
      ]
    },
    {
      "cell_type": "code",
      "source": [
        "# Rule-Based Tokenization\n",
        "\"\"\"For rule-based tokenization, we can create custom rules using regular expressions.\"\"\"\n",
        "\n",
        "import re\n",
        "\n",
        "# Dummy Data\n",
        "text = \"Tokenization; splitting text into words, phrases, or other meaningful elements.\"\n",
        "\n",
        "# Rule-Based Tokenization\n",
        "rule_tokens = re.findall(r'\\b\\w+\\b', text)\n",
        "print(\"Rule-Based Tokens:\", rule_tokens)"
      ],
      "metadata": {
        "colab": {
          "base_uri": "https://localhost:8080/"
        },
        "id": "l4tuFTeByqqO",
        "outputId": "4fbcf018-42a6-4b86-f854-c72733d16308"
      },
      "execution_count": null,
      "outputs": [
        {
          "output_type": "stream",
          "name": "stdout",
          "text": [
            "Rule-Based Tokens: ['Tokenization', 'splitting', 'text', 'into', 'words', 'phrases', 'or', 'other', 'meaningful', 'elements']\n"
          ]
        }
      ]
    },
    {
      "cell_type": "code",
      "source": [
        "#  Statistical Tokenization\n",
        "\n",
        "\"\"\"\n",
        "Statistical Tokenization, commonly referred to as Sentence Boundary Detection (SBD),\n",
        "primarily involves using statistical models to determine sentence boundaries in a given text.\n",
        "\"\"\"\n",
        "from nltk.tokenize import PunktSentenceTokenizer\n",
        "\n",
        "# Dummy Data\n",
        "text = \"Tokenization is a key process in Natural Language Processing. It breaks text into words and sentences.\"\n",
        "\n",
        "# Statistical Tokenization\n",
        "punkt_tokenizer = PunktSentenceTokenizer()\n",
        "statistical_tokens = punkt_tokenizer.tokenize(text)\n",
        "print(\"Statistical Tokens:\", statistical_tokens)"
      ],
      "metadata": {
        "colab": {
          "base_uri": "https://localhost:8080/"
        },
        "id": "_odNQc7sy9Qx",
        "outputId": "7a83e420-aaf0-48d1-a5b0-edf14f3abc72"
      },
      "execution_count": null,
      "outputs": [
        {
          "output_type": "stream",
          "name": "stdout",
          "text": [
            "Statistical Tokens: ['Tokenization is a key process in Natural Language Processing.', 'It breaks text into words and sentences.']\n"
          ]
        }
      ]
    },
    {
      "cell_type": "markdown",
      "source": [
        "The choice of tokenization method depends on the specific requirements of the NLP application and the characteristics of the language being processed.\n",
        "\n",
        "\n",
        "\n",
        "\n"
      ],
      "metadata": {
        "id": "Q0XgKxFSzkMC"
      }
    },
    {
      "cell_type": "markdown",
      "source": [
        "## **2. Stemming**\n",
        "Stemming is a text normalization technique used in Natural Language Processing (NLP) to reduce words to their base or root form. The primary objective of stemming is to map words with similar meanings to a common root, which can simplify the analysis of text data.\n",
        "\n",
        "![Stemming](https://ik.imagekit.io/botpenguin1/assets/website/Stemming_53678d43bc.png)\n",
        "\n",
        "### **How Stemming Works**\n",
        "Stemming involves removing suffixes from words, thereby reducing them to a common base form. This process is based on the intuition that words with the same root convey similar meanings, and treating them as such can aid in various NLP tasks.\n",
        "\n",
        "### **Example of Stemming**\n",
        "\n",
        "- Original Word: \"running\"\n",
        "- Stemmed Word: \"run\"\n",
        "\n",
        "### **Types of Stemming Algorithms**\n",
        "There are various stemming algorithms, and each may have slightly different rules for stemming. One popular stemming algorithm is the Porter Stemmer. **The Porter Stemmer**, designed by Martin Porter, is widely used and implemented in many NLP libraries.\n",
        "\n",
        "**Pros:**\n",
        "- Simplification: Reduces words to a common form, simplifying text analysis.\n",
        "\n",
        "- Dimensionality Reduction: Can help in reducing the dimensionality of feature space in machine learning tasks.\n",
        "\n",
        "\n",
        "**Cons:**\n",
        "- Over-Stemming: May lead to over-stemming, where words are overly reduced, potentially losing some meaning.\n",
        "\n",
        "- Under-Stemming: May under-stem, leaving some words in their original form, leading to less effective normalization."
      ],
      "metadata": {
        "id": "wNQzL4_Kz73t"
      }
    },
    {
      "cell_type": "code",
      "source": [
        "from nltk.stem import PorterStemmer\n",
        "\n",
        "# Create a Porter Stemmer instance\n",
        "stemmer = PorterStemmer()\n",
        "\n",
        "# Example words\n",
        "words = [\"running\", \"flies\", \"happily\", \"better\", \"playing\"]\n",
        "\n",
        "# Stem each word\n",
        "stemmed_words = [stemmer.stem(word) for word in words]\n",
        "\n",
        "# Print results\n",
        "print(\"Original Words:\", words)\n",
        "print(\"Stemmed Words:\", stemmed_words)"
      ],
      "metadata": {
        "colab": {
          "base_uri": "https://localhost:8080/"
        },
        "id": "ZO6kaj6nzDt9",
        "outputId": "c1ed1a88-d19f-4c5b-fc88-409e01d60586"
      },
      "execution_count": null,
      "outputs": [
        {
          "output_type": "stream",
          "name": "stdout",
          "text": [
            "Original Words: ['running', 'flies', 'happily', 'better', 'playing']\n",
            "Stemmed Words: ['run', 'fli', 'happili', 'better', 'play']\n"
          ]
        }
      ]
    },
    {
      "cell_type": "markdown",
      "source": [
        "**Snowball stemming**, also known as the Porter2 stemming algorithm, is an extension of the original Porter stemming algorithm developed by Martin Porter. The Snowball stemming algorithm was designed to improve upon the Porter algorithm by addressing some of its limitations and providing a more aggressive and language-agnostic approach to stemming.\n",
        "\n",
        "While the original Porter stemming algorithm was designed with English in mind, Snowball stemming aims to be more language-agnostic. It provides a framework for creating stemming algorithms for multiple languages.\n",
        "\n",
        "Pros and Cons are same as Porter Stammer."
      ],
      "metadata": {
        "id": "_S2PN0Gy12x4"
      }
    },
    {
      "cell_type": "code",
      "source": [
        "from nltk.stem import SnowballStemmer\n",
        "\n",
        "# Create a Snowball stemmer instance for English\n",
        "snowball_stemmer = SnowballStemmer(\"english\")\n",
        "\n",
        "# Example words\n",
        "words = [\"running\", \"flies\", \"happily\", \"better\", \"playing\"]\n",
        "\n",
        "# Stem each word using Snowball stemmer\n",
        "snowball_stemmed_words = [snowball_stemmer.stem(word) for word in words]\n",
        "\n",
        "# Print results\n",
        "print(\"Original Words:\", words)\n",
        "print(\"Snowball Stemmed Words:\", snowball_stemmed_words)"
      ],
      "metadata": {
        "colab": {
          "base_uri": "https://localhost:8080/"
        },
        "id": "rZ93w4Xt1k-C",
        "outputId": "b9e2fa6f-c282-42b3-f12d-fabe9c3378ea"
      },
      "execution_count": null,
      "outputs": [
        {
          "output_type": "stream",
          "name": "stdout",
          "text": [
            "Original Words: ['running', 'flies', 'happily', 'better', 'playing']\n",
            "Snowball Stemmed Words: ['run', 'fli', 'happili', 'better', 'play']\n"
          ]
        }
      ]
    },
    {
      "cell_type": "markdown",
      "source": [
        "### **Choosing Between Porter and Snowball Stemming:**\n",
        "\n",
        "The choice between Porter and Snowball stemming depends on the specific requirements of the task and the characteristics of the text data. Snowball stemming is often preferred for its language-agnostic approach and more aggressive stemming, but it may not always be suitable for every use case. It's recommended to experiment with both stemming algorithms and evaluate their performance based on the specific goals of your NLP application."
      ],
      "metadata": {
        "id": "VBQQeiSK2Eoo"
      }
    },
    {
      "cell_type": "markdown",
      "source": [
        "## **3. Lemmatization**\n",
        "\n",
        "Lemmatization is a text normalization process that involves reducing words to their base or root form, preserving the grammatical meaning of the words. The base form obtained through lemmatization is known as a lemma. Unlike stemming, lemmatization considers the context and part-of-speech (POS) of a word, resulting in more accurate transformations.\n",
        "\n",
        "### **How Lemmatization Works:**\n",
        "- Lemmatization often begins with part-of-speech tagging to determine the grammatical category (noun, verb, adjective, etc.) of each word in a sentence.\n",
        "- Lemmatization involves applying rules specific to each part-of-speech to map words to their base forms.\n",
        "For example, for verbs, lemmatization may involve removing suffixes like \"ing\" or \"ed.\"\n",
        "- Lemmatization may utilize dictionaries or lexicons to look up the base form of words based on their part-of-speech and context.\n",
        "\n",
        "### **Types of Lemmatization:**\n",
        "\n",
        "- **WordNet Lemmatization:**\n",
        "Utilizes the WordNet lexical database to look up lemmas. Effective for English language lemmatization.\n",
        "\n",
        "- **Rule-Based Lemmatization:**\n",
        "Employs predefined rules and linguistic knowledge for lemmatization. Custom rules can be created based on language-specific or domain-specific requirements.\n",
        "\n",
        "\n"
      ],
      "metadata": {
        "id": "-RmCxw81Ak5P"
      }
    },
    {
      "cell_type": "code",
      "source": [
        "nltk.download('wordnet')\n",
        "from nltk.stem import WordNetLemmatizer\n",
        "from nltk.tokenize import word_tokenize\n",
        "\n",
        "# Dummy Data\n",
        "text = \"Lemmatization involves reducing words to their base form, considering the context and part-of-speech.\"\n",
        "\n",
        "# Tokenize the text\n",
        "words = word_tokenize(text)\n",
        "\n",
        "# Lemmatization using WordNet\n",
        "lemmatizer = WordNetLemmatizer()\n",
        "lemmatized_words = [lemmatizer.lemmatize(word) for word in words]\n",
        "\n",
        "# Print Results\n",
        "print(\"Original Words:\", words)\n",
        "print(\"Lemmatized Words:\", lemmatized_words)"
      ],
      "metadata": {
        "colab": {
          "base_uri": "https://localhost:8080/"
        },
        "id": "vDodELQV2Aln",
        "outputId": "175ddea7-11ea-42b0-ff6b-ea3828ddb73c"
      },
      "execution_count": null,
      "outputs": [
        {
          "output_type": "stream",
          "name": "stderr",
          "text": [
            "[nltk_data] Downloading package wordnet to /root/nltk_data...\n"
          ]
        },
        {
          "output_type": "stream",
          "name": "stdout",
          "text": [
            "Original Words: ['Lemmatization', 'involves', 'reducing', 'words', 'to', 'their', 'base', 'form', ',', 'considering', 'the', 'context', 'and', 'part-of-speech', '.']\n",
            "Lemmatized Words: ['Lemmatization', 'involves', 'reducing', 'word', 'to', 'their', 'base', 'form', ',', 'considering', 'the', 'context', 'and', 'part-of-speech', '.']\n"
          ]
        }
      ]
    },
    {
      "cell_type": "markdown",
      "source": [
        "## **4. Part-of-Speech Tagging**\n",
        "It is the process of assigning grammatical categories (tags) to words in a sentence based on their syntactic and semantic roles. Each word is labeled with a specific tag that represents its part of speech, such as noun, verb, adjective, etc. POS tagging is a crucial step in natural language processing as it helps in understanding the grammatical structure of a sentence.\n",
        "\n",
        "### **Working**\n",
        "POS tagging involves analyzing the context of each word in a sentence and assigning the appropriate part-of-speech tag. This is typically done using pre-trained models or rule-based systems that take into account the word's surrounding words and their relationships.\n",
        "\n",
        "### **Types of POS Tags:**\n",
        "\n",
        "- Noun (NN): Represents a person, place, thing, or idea.\n",
        "- Verb (VB): Represents an action or state of being.\n",
        "- Adjective (JJ): Describes a noun or pronoun.\n",
        "Adverb (RB): Describes a verb, adjective, or other adverb.\n",
        "- Pronoun (PRP): Replaces a noun in a sentence.\n",
        "- Preposition (IN): Relates a noun to another word.\n",
        "- Conjunction (CC): Connects words or groups of words.\n",
        "- Interjection (UH): Expresses strong emotion.\n",
        "- Determiner (DT): Specifies a noun as definite or indefinite.\n",
        "- Particle (RP): Small words that don't fit into other categories.\n",
        "\n",
        "**Note:** The POS tags provided by nltk follow the Penn Treebank POS Tag Set, which is widely used in natural language processing."
      ],
      "metadata": {
        "id": "EEF-EmV2OT35"
      }
    },
    {
      "cell_type": "code",
      "source": [
        "import nltk\n",
        "from nltk.tokenize import word_tokenize\n",
        "# nltk.download('punkt')\n",
        "# nltk.download('averaged_perceptron_tagger')\n",
        "\n",
        "text = \"Part-of-Speech tagging helps in understanding the grammatical structure of a sentence.\"\n",
        "\n",
        "# Tokenize the text\n",
        "words = word_tokenize(text)\n",
        "\n",
        "# Perform POS Tagging\n",
        "pos_tags = nltk.pos_tag(words)\n",
        "\n",
        "# Print Results\n",
        "print(\"Original Words:\", words)\n",
        "print(\"POS Tags:\", pos_tags)"
      ],
      "metadata": {
        "colab": {
          "base_uri": "https://localhost:8080/"
        },
        "id": "m7a_Esl1BLaQ",
        "outputId": "f0350f7c-1da3-4d4a-f4e7-dc9d166d92fe"
      },
      "execution_count": null,
      "outputs": [
        {
          "output_type": "stream",
          "name": "stdout",
          "text": [
            "Original Words: ['Part-of-Speech', 'tagging', 'helps', 'in', 'understanding', 'the', 'grammatical', 'structure', 'of', 'a', 'sentence', '.']\n",
            "POS Tags: [('Part-of-Speech', 'JJ'), ('tagging', 'NN'), ('helps', 'VBZ'), ('in', 'IN'), ('understanding', 'VBG'), ('the', 'DT'), ('grammatical', 'JJ'), ('structure', 'NN'), ('of', 'IN'), ('a', 'DT'), ('sentence', 'NN'), ('.', '.')]\n"
          ]
        }
      ]
    },
    {
      "cell_type": "markdown",
      "source": [
        "## **5. Named Entity Recognition (NER)**\n",
        "It is a Natural Language Processing (NLP) technique that aims to identify and classify entities, such as names of people, organizations, locations, dates, and more, within a given text. It plays a crucial role in extracting structured information from unstructured text data.\n",
        "\n",
        "NER helps extract key information from text, enhancing the understanding of documents. Facilitates efficient searching and retrieval of relevant information. Essential for systems that answer questions by extracting information from texts.\n",
        "\n",
        "### **How NER Works**\n",
        "- Tokenization: Break the text into individual words or tokens.\n",
        "\n",
        "- Part-of-Speech Tagging: Assign a part-of-speech tag to each token.\n",
        "\n",
        "- Named Entity Recognition: Identify and classify tokens into predefined categories (entities).\n",
        "\n",
        "### **Types of Entities:**\n",
        "NER can recognize various types of entities, including but not limited to:\n",
        "\n",
        "- Person: Names of individuals.\n",
        "\n",
        "- Organization: Names of companies, institutions, etc.\n",
        "\n",
        "- Location: Place names, addresses, etc.\n",
        "\n",
        "- Date: References to specific dates.\n",
        "\n",
        "- Time: References to specific times.\n",
        "\n",
        "- Money: Monetary values mentioned in the text.\n",
        "\n",
        "- Percentage: Percentage values mentioned in the text."
      ],
      "metadata": {
        "id": "vLBQ_XvqPQEg"
      }
    },
    {
      "cell_type": "code",
      "source": [
        "import spacy\n",
        "\n",
        "# Load spaCy NLP model\n",
        "nlp = spacy.load(\"en_core_web_sm\")\n",
        "\n",
        "# Input Text\n",
        "text = \"Apple Inc. was founded by Steve Jobs and Steve Wozniak on April 1, 1976, in Cupertino, California.\"\n",
        "\n",
        "# Apply NER\n",
        "doc = nlp(text)\n",
        "\n",
        "# Extract NER entities\n",
        "entities = [(ent.text, ent.label_) for ent in doc.ents]\n",
        "\n",
        "# Print NER entities\n",
        "print(\"Named Entities:\")\n",
        "for entity, label in entities:\n",
        "    print(f\"{label}: {entity}\")"
      ],
      "metadata": {
        "colab": {
          "base_uri": "https://localhost:8080/"
        },
        "id": "IdnwSGqjO1Cg",
        "outputId": "744d3aa7-d244-47cb-aa3b-d903726a2cb3"
      },
      "execution_count": null,
      "outputs": [
        {
          "output_type": "stream",
          "name": "stdout",
          "text": [
            "Named Entities:\n",
            "ORG: Apple Inc.\n",
            "PERSON: Steve Jobs\n",
            "PERSON: Steve Wozniak\n",
            "DATE: April 1, 1976\n",
            "GPE: Cupertino\n",
            "GPE: California\n",
            "Named Entities:\n",
            "ORG: Apple Inc.\n",
            "PERSON: Steve Jobs\n",
            "PERSON: Steve Wozniak\n",
            "DATE: April 1, 1976\n",
            "GPE: Cupertino\n",
            "GPE: California\n"
          ]
        }
      ]
    },
    {
      "cell_type": "markdown",
      "source": [
        "## **6. Stopword Removal**\n",
        "Stopword removal is a text pre-processing step where common words that do not contribute significant meaning to the text are eliminated. These words, known as stopwords, include articles, conjunctions, and other frequently occurring words. Removing stopwords helps reduce noise in the data and improves the efficiency of downstream NLP tasks.\n",
        "\n",
        "Common stopwords in English include \"the,\" \"is,\" \"and,\" \"in,\" etc. These words are often necessary for grammar but may not carry specific semantic meaning in certain contexts.\n",
        "\n",
        "### **Working:**\n",
        "\n",
        "- Tokenization:\n",
        "The text is first tokenized into individual words or tokens.\n",
        "\n",
        "- Stopword List: A predefined list of stopwords is used. This list includes words that are considered common and generally uninformative.\n",
        "\n",
        "- Removal: All occurrences of stopwords in the text are removed."
      ],
      "metadata": {
        "id": "Mzh8msCaQcna"
      }
    },
    {
      "cell_type": "code",
      "source": [
        "import nltk\n",
        "from nltk.corpus import stopwords\n",
        "from nltk.tokenize import word_tokenize\n",
        "\n",
        "# Download the stopwords dataset\n",
        "# nltk.download('stopwords')\n",
        "# nltk.download('punkt')\n",
        "\n",
        "# Dummy Data\n",
        "text = \"Stopword removal is an important step in natural language processing. It helps improve text analysis.\"\n",
        "\n",
        "# Tokenize the text\n",
        "words = word_tokenize(text)\n",
        "\n",
        "# Remove stopwords\n",
        "stop_words = set(stopwords.words('english'))\n",
        "filtered_words = [word for word in words if word.lower() not in stop_words]\n",
        "\n",
        "# Print Results\n",
        "print(\"Original Words:\", words)\n",
        "print(\"Filtered Words (without stopwords):\", filtered_words)"
      ],
      "metadata": {
        "colab": {
          "base_uri": "https://localhost:8080/"
        },
        "id": "TLPvnBzUPrxq",
        "outputId": "90eaa614-b0d8-4e67-f8c8-ab40b3a162ef"
      },
      "execution_count": null,
      "outputs": [
        {
          "output_type": "stream",
          "name": "stdout",
          "text": [
            "Original Words: ['Stopword', 'removal', 'is', 'an', 'important', 'step', 'in', 'natural', 'language', 'processing', '.', 'It', 'helps', 'improve', 'text', 'analysis', '.']\n",
            "Filtered Words (without stopwords): ['Stopword', 'removal', 'important', 'step', 'natural', 'language', 'processing', '.', 'helps', 'improve', 'text', 'analysis', '.']\n"
          ]
        }
      ]
    },
    {
      "cell_type": "markdown",
      "source": [
        "## **7. Data Cleaning and Noise Removal**\n",
        "Data cleaning involves the process of identifying and correcting errors or inconsistencies in the text data. This may include removing irrelevant characters, handling misspelled words, and addressing other issues that can impact the quality of analysis or model performance.\n",
        "\n",
        "**Examples of Data Cleaning:**\n",
        "\n",
        "**Removing Special Characters:**\n",
        "Original Text: \"Hello @World!\"\n",
        "Cleaned Text: \"Hello World\"\n",
        "\n",
        "**Handling Misspelled Words:**\n",
        "Original Text: \"I love programmingg!\"\n",
        "Cleaned Text: \"I love programming!\"\n",
        "\n",
        "**Lowercasing:**\n",
        "Original Text: \"NLP is Exciting!\"\n",
        "Cleaned Text: \"nlp is exciting\""
      ],
      "metadata": {
        "id": "igfeaV9qapM0"
      }
    },
    {
      "cell_type": "code",
      "source": [
        "import re\n",
        "\n",
        "def clean_text(text):\n",
        "    # Remove special characters and digits\n",
        "    text = re.sub(r'[^A-Za-z ]+', '', text)\n",
        "\n",
        "    # Correct repeated characters (e.g., programmingg to programming)\n",
        "    text = re.sub(r'(.)\\1+', r'\\1', text)\n",
        "\n",
        "    # Convert to lowercase\n",
        "    text = text.lower()\n",
        "\n",
        "    return text\n",
        "\n",
        "# Example\n",
        "original_text = \"Hello @World! I love programmingg! NLP is Exciting!\"\n",
        "cleaned_text = clean_text(original_text)\n",
        "print(\"Original Text:\", original_text)\n",
        "print(\"Cleaned Text:\", cleaned_text)"
      ],
      "metadata": {
        "colab": {
          "base_uri": "https://localhost:8080/"
        },
        "id": "SEKU6HaxQxrW",
        "outputId": "ba5e7268-1bba-4c5c-a8d2-51e62b199090"
      },
      "execution_count": null,
      "outputs": [
        {
          "output_type": "stream",
          "name": "stdout",
          "text": [
            "Original Text: Hello @World! I love programmingg! NLP is Exciting!\n",
            "Cleaned Text: helo world i love programing nlp is exciting\n"
          ]
        }
      ]
    },
    {
      "cell_type": "markdown",
      "source": [
        "**Noise Reduction**\n",
        "\n",
        "Noise reduction involves removing irrelevant or distracting information from the text data, enhancing the signal-to-noise ratio. This can include eliminating stop words, irrelevant punctuation, or other elements that do not contribute substantially to the meaning.\n",
        "\n",
        "**Examples of Noise Reduction**:\n",
        "\n",
        "**Removing Stop Words:**\n",
        "\n",
        "**Original Text:**\"The cat is on the mat.\"\n",
        "\n",
        "**Text after Noise Reduction:** \"cat mat\"\n",
        "Eliminating Punctuation:\n",
        "\n",
        "\n",
        "\n",
        "**Original Text:** \"Hello, world!\"\n",
        "\n",
        "**Text after Noise Reduction:** \"Hello world\""
      ],
      "metadata": {
        "id": "oekWzkTXdj9n"
      }
    },
    {
      "cell_type": "code",
      "source": [
        "from nltk.corpus import stopwords\n",
        "from nltk.tokenize import word_tokenize\n",
        "# import nltk\n",
        "# nltk.download('punkt')\n",
        "# nltk.download('stopwords')\n",
        "\n",
        "def reduce_noise(text):\n",
        "    # Tokenize the text\n",
        "    words = word_tokenize(text)\n",
        "\n",
        "    # Remove stop words\n",
        "    stop_words = set(stopwords.words(\"english\"))\n",
        "    filtered_words = [word for word in words if word.lower() not in stop_words]\n",
        "\n",
        "    return \" \".join(filtered_words)\n",
        "\n",
        "# Example\n",
        "original_text = \"The cat is on the mat. Hello, world!\"\n",
        "text_after_reduction = reduce_noise(original_text)\n",
        "print(\"Original Text:\", original_text)\n",
        "print(\"Text after Noise Reduction:\", text_after_reduction)"
      ],
      "metadata": {
        "colab": {
          "base_uri": "https://localhost:8080/"
        },
        "id": "LoIuHMAbdgZK",
        "outputId": "fa7382c5-999a-4d4c-a5cc-8ee12b94674a"
      },
      "execution_count": null,
      "outputs": [
        {
          "output_type": "stream",
          "name": "stdout",
          "text": [
            "Original Text: The cat is on the mat. Hello, world!\n",
            "Text after Noise Reduction: cat mat . Hello , world !\n"
          ]
        }
      ]
    },
    {
      "cell_type": "markdown",
      "source": [
        "# **DAY-7**\n",
        "## **Deep Learning Project**\n",
        "- Next Word Prediction\n",
        "\n",
        "**Video Link** - https://youtu.be/SBsAtqC0DT8\n",
        "\n",
        "Project - https://github.com/simranjeet97/75DayHard_GenAI_LLM_Challenge/tree/main/NextWordPrediction_DeepLearning"
      ],
      "metadata": {
        "id": "AGorqld6eJbZ"
      }
    },
    {
      "cell_type": "markdown",
      "source": [
        "# **DAY-8**\n",
        "## **Word Embeddings**\n",
        "- Word Embeddings Explained with Word2Vec Model (Maths and Python Code)\n",
        "\n",
        "**Video Link** -\n"
      ],
      "metadata": {
        "id": "JTwG0PpnuBiJ"
      }
    },
    {
      "cell_type": "code",
      "source": [
        "def generate_ngrams(text, n):\n",
        "    words = text.split()\n",
        "    ngrams = [tuple(words[i:i+n]) for i in range(len(words)-n+1)]\n",
        "    return ngrams\n",
        "\n",
        "# Dummy data\n",
        "dummy_text = \"This is a sample text for n-grams implementation in NLP using Python.\"\n",
        "\n",
        "# Generating trigrams (n=3)\n",
        "trigrams = generate_ngrams(dummy_text, 3)\n",
        "print(\"Trigrams:\", trigrams)"
      ],
      "metadata": {
        "colab": {
          "base_uri": "https://localhost:8080/"
        },
        "id": "jdn_tdQLuAzq",
        "outputId": "ad2e2a95-08b2-42c3-9d15-101db07e6fd0"
      },
      "execution_count": null,
      "outputs": [
        {
          "output_type": "stream",
          "name": "stdout",
          "text": [
            "Trigrams: [('This', 'is', 'a'), ('is', 'a', 'sample'), ('a', 'sample', 'text'), ('sample', 'text', 'for'), ('text', 'for', 'n-grams'), ('for', 'n-grams', 'implementation'), ('n-grams', 'implementation', 'in'), ('implementation', 'in', 'NLP'), ('in', 'NLP', 'using'), ('NLP', 'using', 'Python.')]\n"
          ]
        }
      ]
    },
    {
      "cell_type": "code",
      "source": [
        "!pip install gensim"
      ],
      "metadata": {
        "colab": {
          "base_uri": "https://localhost:8080/"
        },
        "id": "jOD5wH7e_Kcp",
        "outputId": "a59851cb-3b14-4595-ea8b-f4b4b9d506b5"
      },
      "execution_count": null,
      "outputs": [
        {
          "output_type": "stream",
          "name": "stdout",
          "text": [
            "Requirement already satisfied: gensim in /usr/local/lib/python3.10/dist-packages (4.3.2)\n",
            "Requirement already satisfied: numpy>=1.18.5 in /usr/local/lib/python3.10/dist-packages (from gensim) (1.23.5)\n",
            "Requirement already satisfied: scipy>=1.7.0 in /usr/local/lib/python3.10/dist-packages (from gensim) (1.11.4)\n",
            "Requirement already satisfied: smart-open>=1.8.1 in /usr/local/lib/python3.10/dist-packages (from gensim) (6.4.0)\n"
          ]
        }
      ]
    },
    {
      "cell_type": "code",
      "source": [
        "from gensim.models import Word2Vec\n",
        "from nltk.tokenize import word_tokenize\n",
        "# Dummy data\n",
        "dummy_corpus = [\"This is a sample sentence.\", \"Another example sentence.\"]\n",
        "\n",
        "# Tokenize the sentences\n",
        "tokenized_corpus = [word_tokenize(sentence.lower()) for sentence in dummy_corpus]\n",
        "\n",
        "# CBOW model\n",
        "cbow_model = Word2Vec(sentences=tokenized_corpus, vector_size=100, window=5, sg=0, min_count=1)\n",
        "\n",
        "# Test the CBOW model\n",
        "word_vector = cbow_model.wv['sample']\n",
        "similar_words = cbow_model.wv.most_similar('sample', topn=3)\n",
        "\n",
        "print(\"Word Vector for 'sample':\", word_vector)\n",
        "print(\"Similar Words to 'sample':\", similar_words)\n",
        "\n",
        "\"\"\"\n",
        "Word2Vec is used to train a CBOW model on the dummy corpus.\n",
        "The vector_size parameter specifies the dimensionality of the word vectors, and window determines the maximum distance between the current and predicted word within a sentence.\n",
        "\"\"\""
      ],
      "metadata": {
        "colab": {
          "base_uri": "https://localhost:8080/",
          "height": 365
        },
        "id": "T4Pj7mUk_ORx",
        "outputId": "b67fe323-7193-4582-9b07-875a290c0ee0"
      },
      "execution_count": null,
      "outputs": [
        {
          "output_type": "stream",
          "name": "stdout",
          "text": [
            "Word Vector for 'sample': [-0.00713902  0.00124103 -0.00717672 -0.00224462  0.0037193   0.00583312\n",
            "  0.00119818  0.00210273 -0.00411039  0.00722533 -0.00630704  0.00464722\n",
            " -0.00821997  0.00203647 -0.00497705 -0.00424769 -0.00310898  0.00565521\n",
            "  0.0057984  -0.00497465  0.00077333 -0.00849578  0.00780981  0.00925729\n",
            " -0.00274233  0.00080022  0.00074665  0.00547788 -0.00860608  0.00058446\n",
            "  0.00686942  0.00223159  0.00112468 -0.00932216  0.00848237 -0.00626413\n",
            " -0.00299237  0.00349379 -0.00077263  0.00141129  0.00178199 -0.0068289\n",
            " -0.00972481  0.00904058  0.00619805 -0.00691293  0.00340348  0.00020606\n",
            "  0.00475375 -0.00711994  0.00402695  0.00434743  0.00995737 -0.00447374\n",
            " -0.00138926 -0.00731732 -0.00969783 -0.00908026 -0.00102275 -0.00650329\n",
            "  0.00484973 -0.00616403  0.00251919  0.00073944 -0.00339215 -0.00097922\n",
            "  0.00997913  0.00914589 -0.00446183  0.00908303 -0.00564176  0.00593092\n",
            " -0.00309722  0.00343175  0.00301723  0.00690046 -0.00237388  0.00877504\n",
            "  0.00758943 -0.00954765 -0.00800821 -0.0076379   0.00292326 -0.00279472\n",
            " -0.00692952 -0.00812826  0.00830918  0.00199049 -0.00932802 -0.00479272\n",
            "  0.00313674 -0.00471321  0.00528084 -0.00423344  0.0026418  -0.00804569\n",
            "  0.00620989  0.00481889  0.00078719  0.00301345]\n",
            "Similar Words to 'sample': [('example', 0.17018885910511017), ('a', 0.13887980580329895), ('is', 0.034764934331178665)]\n"
          ]
        },
        {
          "output_type": "execute_result",
          "data": {
            "text/plain": [
              "'\\nWord2Vec is used to train a CBOW model on the dummy corpus. \\nThe vector_size parameter specifies the dimensionality of the word vectors, and window determines the maximum distance between the current and predicted word within a sentence.\\n'"
            ],
            "application/vnd.google.colaboratory.intrinsic+json": {
              "type": "string"
            }
          },
          "metadata": {},
          "execution_count": 6
        }
      ]
    },
    {
      "cell_type": "markdown",
      "source": [
        "# **DAY-9**\n",
        "## **Negative Sampling**\n",
        "- Negative Sampling Explained with Count Based Methods and GLOVe Model (Maths and Python Code)\n",
        "\n",
        "**Video Link** -\n"
      ],
      "metadata": {
        "id": "GMd-5a_N1T8-"
      }
    },
    {
      "cell_type": "code",
      "source": [
        "from gensim.models import Word2Vec\n",
        "from nltk.tokenize import word_tokenize\n",
        "\n",
        "# Dummy corpus\n",
        "corpus = [\"Word embeddings are powerful.\", \"They capture semantic relationships.\", \"Word2Vec is a popular model.\"]\n",
        "\n",
        "# Tokenize the sentences\n",
        "tokenized_corpus = [word_tokenize(sentence.lower()) for sentence in corpus]\n",
        "\n",
        "# Word2Vec Model\n",
        "w2v_model = Word2Vec(sentences=tokenized_corpus, vector_size=1700, window=5, sg=1, min_count=1)\n",
        "\n",
        "# Negative Sampling Model\n",
        "neg_sampling_model = Word2Vec(sentences=tokenized_corpus, vector_size=100, window=5, sg=1, negative=5, min_count=1)\n",
        "\n",
        "# Test the models\n",
        "word_to_predict = 'word'\n",
        "next_word_w2v = w2v_model.wv.most_similar(word_to_predict, topn=1)[0][0]\n",
        "next_word_neg_sampling = neg_sampling_model.wv.most_similar(word_to_predict, topn=1)[0][0]\n",
        "\n",
        "print(\"Next Word (Word2Vec):\", next_word_w2v)\n",
        "print(\"Next Word (Negative Sampling):\", next_word_neg_sampling)"
      ],
      "metadata": {
        "id": "yPmGloo8_PVt",
        "colab": {
          "base_uri": "https://localhost:8080/"
        },
        "outputId": "615071f6-df58-4db9-c1b6-0e3395ae3556"
      },
      "execution_count": 83,
      "outputs": [
        {
          "output_type": "stream",
          "name": "stdout",
          "text": [
            "Next Word (Word2Vec): capture\n",
            "Next Word (Negative Sampling): is\n"
          ]
        }
      ]
    },
    {
      "cell_type": "code",
      "source": [
        "# Count-Based Methods:\n",
        "import numpy as np\n",
        "from collections import defaultdict\n",
        "from sklearn.metrics.pairwise import cosine_similarity\n",
        "\n",
        "# Dummy corpus\n",
        "corpus = [\"Word embeddings are powerful.\", \"They capture semantic relationships.\", \"Count-based methods are efficient.\"]\n",
        "\n",
        "# Tokenize the sentences\n",
        "tokenized_corpus = [word_tokenize(sentence.lower()) for sentence in corpus]\n",
        "\n",
        "# Create a co-occurrence matrix\n",
        "vocab = set(word for sentence in tokenized_corpus for word in sentence)\n",
        "word_to_index = {word: i for i, word in enumerate(vocab)}\n",
        "co_occurrence_matrix = np.zeros((len(vocab), len(vocab)))\n",
        "\n",
        "window_size = 2\n",
        "\n",
        "for sentence in tokenized_corpus:\n",
        "    for i, target_word in enumerate(sentence):\n",
        "        start = max(0, i - window_size)\n",
        "        end = min(len(sentence), i + window_size + 1)\n",
        "        context_words = [sentence[j] for j in range(start, end) if j != i]\n",
        "        target_index = word_to_index[target_word]\n",
        "        for context_word in context_words:\n",
        "            context_index = word_to_index[context_word]\n",
        "            co_occurrence_matrix[target_index, context_index] += 1\n",
        "\n",
        "# Test the co-occurrence matrix\n",
        "print(\"Co-occurrence Matrix:\")\n",
        "print(co_occurrence_matrix)\n",
        "\n",
        "# Use cosine similarity for similarity calculation\n",
        "similarity_matrix = cosine_similarity(co_occurrence_matrix)\n",
        "\n",
        "# Test similarity\n",
        "print(\"Cosine Similarity Matrix:\")\n",
        "print(similarity_matrix)"
      ],
      "metadata": {
        "colab": {
          "base_uri": "https://localhost:8080/"
        },
        "id": "x9qtjzoR1gXV",
        "outputId": "49b8821f-f776-48e0-f0aa-f893f9ad3718"
      },
      "execution_count": 27,
      "outputs": [
        {
          "output_type": "stream",
          "name": "stdout",
          "text": [
            "Co-occurrence Matrix:\n",
            "[[0. 1. 0. 0. 0. 1. 0. 1. 0. 0. 0. 0.]\n",
            " [1. 0. 0. 0. 0. 1. 0. 1. 1. 0. 0. 0.]\n",
            " [0. 0. 0. 1. 0. 0. 0. 0. 0. 1. 1. 0.]\n",
            " [0. 0. 1. 0. 1. 0. 1. 0. 2. 1. 1. 1.]\n",
            " [0. 0. 0. 1. 0. 0. 1. 0. 0. 0. 0. 1.]\n",
            " [1. 1. 0. 0. 0. 0. 0. 0. 0. 0. 0. 0.]\n",
            " [0. 0. 0. 1. 1. 0. 0. 0. 1. 0. 0. 0.]\n",
            " [1. 1. 0. 0. 0. 0. 0. 0. 1. 0. 0. 0.]\n",
            " [0. 1. 0. 2. 0. 0. 1. 1. 0. 0. 1. 0.]\n",
            " [0. 0. 1. 1. 0. 0. 0. 0. 0. 0. 0. 0.]\n",
            " [0. 0. 1. 1. 0. 0. 0. 0. 1. 0. 0. 0.]\n",
            " [0. 0. 0. 1. 1. 0. 0. 0. 0. 0. 0. 0.]]\n",
            "Cosine Similarity Matrix:\n",
            "[[1.         0.57735027 0.         0.         0.         0.40824829\n",
            "  0.         0.33333333 0.40824829 0.         0.         0.        ]\n",
            " [0.57735027 1.         0.         0.31622777 0.         0.35355339\n",
            "  0.28867513 0.57735027 0.1767767  0.         0.28867513 0.        ]\n",
            " [0.         0.         1.         0.36514837 0.33333333 0.\n",
            "  0.33333333 0.         0.61237244 0.40824829 0.33333333 0.40824829]\n",
            " [0.         0.31622777 0.36514837 1.         0.36514837 0.\n",
            "  0.54772256 0.36514837 0.2236068  0.2236068  0.54772256 0.2236068 ]\n",
            " [0.         0.         0.33333333 0.36514837 1.         0.\n",
            "  0.33333333 0.         0.61237244 0.40824829 0.33333333 0.40824829]\n",
            " [0.40824829 0.35355339 0.         0.         0.         1.\n",
            "  0.         0.81649658 0.25       0.         0.         0.        ]\n",
            " [0.         0.28867513 0.33333333 0.54772256 0.33333333 0.\n",
            "  1.         0.33333333 0.40824829 0.40824829 0.66666667 0.81649658]\n",
            " [0.33333333 0.57735027 0.         0.36514837 0.         0.81649658\n",
            "  0.33333333 1.         0.20412415 0.         0.33333333 0.        ]\n",
            " [0.40824829 0.1767767  0.61237244 0.2236068  0.61237244 0.25\n",
            "  0.40824829 0.20412415 1.         0.5        0.40824829 0.5       ]\n",
            " [0.         0.         0.40824829 0.2236068  0.40824829 0.\n",
            "  0.40824829 0.         0.5        1.         0.81649658 0.5       ]\n",
            " [0.         0.28867513 0.33333333 0.54772256 0.33333333 0.\n",
            "  0.66666667 0.33333333 0.40824829 0.81649658 1.         0.40824829]\n",
            " [0.         0.         0.40824829 0.2236068  0.40824829 0.\n",
            "  0.81649658 0.         0.5        0.5        0.40824829 1.        ]]\n"
          ]
        }
      ]
    },
    {
      "cell_type": "code",
      "source": [
        "import numpy as np\n",
        "from sklearn.feature_extraction.text import CountVectorizer\n",
        "from sklearn.decomposition import TruncatedSVD\n",
        "from sklearn.pipeline import make_pipeline\n",
        "from tensorflow.keras.models import Sequential\n",
        "from tensorflow.keras.layers import Embedding, LSTM, Dense\n",
        "from tensorflow.keras.preprocessing.text import Tokenizer\n",
        "from tensorflow.keras.preprocessing.sequence import pad_sequences\n",
        "\n",
        "# Dummy corpus\n",
        "corpus = [\"Word embeddings are powerful.\", \"They capture semantic relationships.\", \"GloVe is embedding.\"]\n",
        "\n",
        "# Create a pipeline with CountVectorizer and TruncatedSVD (GloVe-like)\n",
        "vectorizer = CountVectorizer(lowercase=True, stop_words='english')\n",
        "svd_model = TruncatedSVD(n_components=3)\n",
        "glove_model = make_pipeline(vectorizer, svd_model)\n",
        "\n",
        "# Fit the GloVe model\n",
        "glove_matrix = glove_model.fit_transform(corpus)\n",
        "\n",
        "# Tokenize the corpus for training the LSTM model\n",
        "tokenizer = Tokenizer()\n",
        "tokenizer.fit_on_texts(corpus)\n",
        "total_words = len(tokenizer.word_index)+1\n",
        "\n",
        "# Create input sequences and labels for training\n",
        "input_sequences = []\n",
        "for line in corpus:\n",
        "    token_list = tokenizer.texts_to_sequences([line])[0]\n",
        "    for i in range(1, len(token_list)):\n",
        "        n_gram_sequence = token_list[:i+1]\n",
        "        input_sequences.append(n_gram_sequence)\n",
        "\n",
        "max_sequence_length = max(len(seq) for seq in input_sequences)\n",
        "padded_sequences = pad_sequences(input_sequences, maxlen=max_sequence_length, padding='pre')\n",
        "\n",
        "X = padded_sequences[:, :-1]\n",
        "y = padded_sequences[:, -1]\n",
        "y = np.array([tf.keras.utils.to_categorical(word, num_classes=total_words) for word in y])\n",
        "\n",
        "# Build a simple LSTM model using GloVe embeddings\n",
        "embedding_dim = glove_matrix.shape[1]\n",
        "\n",
        "model = Sequential([\n",
        "    Embedding(input_dim=total_words, output_dim=embedding_dim, input_length=max_sequence_length-1),\n",
        "    LSTM(50),\n",
        "    Dense(total_words, activation='softmax')\n",
        "])\n",
        "\n",
        "# Set the weights of the Embedding layer to the GloVe matrix\n",
        "glove_matrix_reshaped = np.expand_dims(np.repeat(glove_matrix, 4, axis=0), axis=0)[0]\n",
        "\n",
        "model.layers[0].set_weights([glove_matrix_reshaped])  # Transpose GloVe matrix\n",
        "\n",
        "# Compile the model\n",
        "model.compile(optimizer='adam', loss='categorical_crossentropy', metrics=['accuracy'])\n",
        "\n",
        "# Train the model\n",
        "model.fit(X, y, epochs=100, verbose=2)"
      ],
      "metadata": {
        "id": "CafxC0AF1kd8"
      },
      "execution_count": null,
      "outputs": []
    },
    {
      "cell_type": "code",
      "source": [
        "# Now, you can use the trained model for predictions.\n",
        "# For predicting the next word, you need to input a sequence of words (tokens).\n",
        "# For simplicity, let's say the input sequence is: \"Word embeddings are\"\n",
        "input_sequence = [\"word\", \"embeddings\", \"are\"]\n",
        "input_indices = [tokenizer.word_index[word] for word in input_sequence]\n",
        "\n",
        "# Convert input indices to a format suitable for model.predict\n",
        "input_array = np.array(input_indices).reshape(1, -1)\n",
        "\n",
        "# Make a prediction\n",
        "prediction_probs = model.predict(input_array)\n",
        "\n",
        "# Get the index of the word with the highest probability\n",
        "predicted_word_index = np.argmax(prediction_probs)\n",
        "\n",
        "# Find the predicted word based on the index\n",
        "predicted_word = next(word for word, index in tokenizer.word_index.items() if index == predicted_word_index)\n",
        "\n",
        "print(\"Predicted Next Word:\", predicted_word)"
      ],
      "metadata": {
        "colab": {
          "base_uri": "https://localhost:8080/"
        },
        "id": "dfJy4rd-7Ds-",
        "outputId": "e3292a7c-e21b-467a-94c9-8df4f5cec387"
      },
      "execution_count": 81,
      "outputs": [
        {
          "output_type": "stream",
          "name": "stdout",
          "text": [
            "1/1 [==============================] - 1s 961ms/step\n",
            "Predicted Next Word: powerful\n"
          ]
        }
      ]
    },
    {
      "cell_type": "markdown",
      "source": [
        "# **DAY-11**\n",
        "## **Vanishing Gradient and Exploding Gradient**\n",
        "\n",
        "**Video Link** -\n"
      ],
      "metadata": {
        "id": "UwPBS60zu5Fb"
      }
    },
    {
      "cell_type": "code",
      "source": [
        "import numpy as np\n",
        "import matplotlib.pyplot as plt\n",
        "\n",
        "def sigmoid(x):\n",
        "    return 1 / (1 + np.exp(-x))\n",
        "\n",
        "def sigmoid_derivative(x):\n",
        "    return sigmoid(x) * (1 - sigmoid(x))\n",
        "\n",
        "x_values = np.linspace(-7, 7, 100)\n",
        "\n",
        "plt.figure(figsize=(12, 4))\n",
        "\n",
        "plt.subplot(1, 2, 1)\n",
        "plt.plot(x_values, sigmoid(x_values))\n",
        "plt.title('Sigmoid Activation Function')\n",
        "\n",
        "plt.subplot(1, 2, 2)\n",
        "plt.plot(x_values, sigmoid_derivative(x_values))\n",
        "plt.title('Sigmoid Derivative')\n",
        "\n",
        "plt.show()"
      ],
      "metadata": {
        "colab": {
          "base_uri": "https://localhost:8080/",
          "height": 391
        },
        "id": "TgQRnJ7Lu9No",
        "outputId": "9b0f106a-b2b8-4f4b-ab5f-fe352c781979"
      },
      "execution_count": 1,
      "outputs": [
        {
          "output_type": "display_data",
          "data": {
            "text/plain": [
              "<Figure size 1200x400 with 2 Axes>"
            ],
            "image/png": "[encoded data removed]"
          },
          "metadata": {}
        }
      ]
    },
    {
      "cell_type": "markdown",
      "source": [
        "### Vanishing Gradient Probelm and Solution"
      ],
      "metadata": {
        "id": "hOdXLxbyxSDp"
      }
    },
    {
      "cell_type": "code",
      "source": [
        "import numpy as np\n",
        "import matplotlib.pyplot as plt\n",
        "from tensorflow.keras.models import Sequential\n",
        "from tensorflow.keras.layers import Dense\n",
        "from sklearn.datasets import make_classification\n",
        "from sklearn.model_selection import train_test_split\n",
        "from sklearn.preprocessing import StandardScaler\n",
        "\n",
        "# Generate a synthetic dataset\n",
        "X, y = make_classification(n_samples=1000, n_features=20, n_informative=10, n_classes=2, random_state=42)\n",
        "\n",
        "# Split the data into training and testing sets\n",
        "X_train, X_test, y_train, y_test = train_test_split(X, y, test_size=0.2, random_state=42)\n",
        "\n",
        "# Standardize the features\n",
        "scaler = StandardScaler()\n",
        "X_train = scaler.fit_transform(X_train)\n",
        "X_test = scaler.transform(X_test)\n",
        "\n",
        "# Define a deep neural network with sigmoid activation\n",
        "model_vanishing = Sequential()\n",
        "model_vanishing.add(Dense(50, input_dim=20, activation='sigmoid'))\n",
        "model_vanishing.add(Dense(1, activation='sigmoid'))\n",
        "model_vanishing.compile(optimizer='adam', loss='binary_crossentropy', metrics=['accuracy'])\n",
        "\n",
        "# Train the model\n",
        "history_vanishing = model_vanishing.fit(X_train, y_train, epochs=100, validation_data=(X_test, y_test), verbose=0)\n",
        "\n",
        "# Plot the loss during training\n",
        "plt.figure(figsize=(12, 4))\n",
        "\n",
        "plt.subplot(1, 2, 1)\n",
        "plt.plot(history_vanishing.history['loss'], label='Training Loss')\n",
        "plt.plot(history_vanishing.history['val_loss'], label='Validation Loss')\n",
        "plt.title('Vanishing Gradient Problem')\n",
        "plt.xlabel('Epochs')\n",
        "plt.ylabel('Loss')\n",
        "plt.legend()"
      ],
      "metadata": {
        "colab": {
          "base_uri": "https://localhost:8080/",
          "height": 427
        },
        "id": "bhDRgovzvAhV",
        "outputId": "d560d974-b4a8-495c-9987-8729598953eb"
      },
      "execution_count": 5,
      "outputs": [
        {
          "output_type": "execute_result",
          "data": {
            "text/plain": [
              "<matplotlib.legend.Legend at 0x7cf882cb3ca0>"
            ]
          },
          "metadata": {},
          "execution_count": 5
        },
        {
          "output_type": "display_data",
          "data": {
            "text/plain": [
              "<Figure size 1200x400 with 1 Axes>"
            ],
            "image/png": "[encoded data removed]"
          },
          "metadata": {}
        }
      ]
    },
    {
      "cell_type": "code",
      "source": [
        "# Now, let's modify the model to use ReLU activation to address the vanishing gradient problem\n",
        "\n",
        "# Define a deep neural network with ReLU activation\n",
        "model_fixed = Sequential()\n",
        "model_fixed.add(Dense(50, input_dim=20, activation='relu'))\n",
        "model_fixed.add(Dense(1, activation='sigmoid'))\n",
        "model_fixed.compile(optimizer='adam', loss='binary_crossentropy', metrics=['accuracy'])\n",
        "\n",
        "# Train the fixed model\n",
        "history_fixed = model_fixed.fit(X_train, y_train, epochs=100, validation_data=(X_test, y_test), verbose=0)\n",
        "\n",
        "# Plot the loss during training for the fixed model\n",
        "plt.subplot(1, 2, 2)\n",
        "plt.plot(history_fixed.history['loss'], label='Training Loss')\n",
        "plt.plot(history_fixed.history['val_loss'], label='Validation Loss')\n",
        "plt.title('Vanishing Gradient Problem (Fixed)')\n",
        "plt.xlabel('Epochs')\n",
        "plt.ylabel('Loss')\n",
        "plt.legend()\n",
        "\n",
        "plt.tight_layout()\n",
        "plt.show()"
      ],
      "metadata": {
        "colab": {
          "base_uri": "https://localhost:8080/",
          "height": 487
        },
        "id": "8qehO6VFvrIn",
        "outputId": "b7b95131-cb38-4d38-bed3-e590b8607679"
      },
      "execution_count": 6,
      "outputs": [
        {
          "output_type": "display_data",
          "data": {
            "text/plain": [
              "<Figure size 640x480 with 1 Axes>"
            ],
            "image/png": "[encoded data removed]"
          },
          "metadata": {}
        }
      ]
    },
    {
      "cell_type": "markdown",
      "source": [
        "### Exploding Gradient Probelm and Solution"
      ],
      "metadata": {
        "id": "AMWScCxuxWxq"
      }
    },
    {
      "cell_type": "code",
      "source": [
        "import numpy as np\n",
        "import matplotlib.pyplot as plt\n",
        "from tensorflow.keras.models import Sequential\n",
        "from tensorflow.keras.layers import Dense\n",
        "from sklearn.datasets import make_classification\n",
        "from sklearn.model_selection import train_test_split\n",
        "from sklearn.preprocessing import StandardScaler\n",
        "\n",
        "# Generate a synthetic dataset\n",
        "X, y = make_classification(n_samples=1000, n_features=20, n_informative=10, n_classes=2, random_state=42)\n",
        "\n",
        "# Split the data into training and testing sets\n",
        "X_train, X_test, y_train, y_test = train_test_split(X, y, test_size=0.2, random_state=42)\n",
        "\n",
        "# Standardize the features\n",
        "scaler = StandardScaler()\n",
        "X_train = scaler.fit_transform(X_train)\n",
        "X_test = scaler.transform(X_test)\n",
        "\n",
        "# Define a deep neural network with a problematic weight initialization\n",
        "model_exploding = Sequential()\n",
        "model_exploding.add(Dense(100, input_dim=20, activation='relu', kernel_initializer='he_uniform'))\n",
        "model_exploding.add(Dense(1, activation='sigmoid'))\n",
        "model_exploding.compile(optimizer='adam', loss='binary_crossentropy', metrics=['accuracy'])\n",
        "\n",
        "# Train the model\n",
        "history_exploding = model_exploding.fit(X_train, y_train, epochs=200, validation_data=(X_test, y_test), verbose=0)\n",
        "\n",
        "# Plot the loss during training\n",
        "plt.figure(figsize=(12, 4))\n",
        "\n",
        "plt.subplot(1, 2, 1)\n",
        "plt.plot(history_exploding.history['loss'], label='Training Loss')\n",
        "plt.plot(history_exploding.history['val_loss'], label='Validation Loss')\n",
        "plt.title('Exploding Gradient Problem')\n",
        "plt.xlabel('Epochs')\n",
        "plt.ylabel('Loss')\n",
        "plt.legend()"
      ],
      "metadata": {
        "colab": {
          "base_uri": "https://localhost:8080/",
          "height": 427
        },
        "id": "KacmnetMvv-r",
        "outputId": "29848fd6-fab9-47a1-cccd-3958ac2e3c66"
      },
      "execution_count": 12,
      "outputs": [
        {
          "output_type": "execute_result",
          "data": {
            "text/plain": [
              "<matplotlib.legend.Legend at 0x7cf88b8e2200>"
            ]
          },
          "metadata": {},
          "execution_count": 12
        },
        {
          "output_type": "display_data",
          "data": {
            "text/plain": [
              "<Figure size 1200x400 with 1 Axes>"
            ],
            "image/png": "[encoded data removed]"
          },
          "metadata": {}
        }
      ]
    },
    {
      "cell_type": "code",
      "source": [
        "# Now, let's modify the model to use a more appropriate weight initialization to fix the exploding gradient problem\n",
        "\n",
        "# Define a deep neural network with improved weight initialization\n",
        "model_fixed = Sequential()\n",
        "model_fixed.add(Dense(20, input_dim=20, activation='relu', kernel_initializer='he_normal'))\n",
        "model_fixed.add(Dense(1, activation='sigmoid'))\n",
        "model_fixed.compile(optimizer='adam', loss='binary_crossentropy', metrics=['accuracy'])\n",
        "\n",
        "# Train the fixed model\n",
        "history_fixed = model_fixed.fit(X_train, y_train, epochs=200, validation_data=(X_test, y_test), verbose=0)\n",
        "\n",
        "# Plot the loss during training for the fixed model\n",
        "plt.subplot(1, 2, 2)\n",
        "plt.plot(history_fixed.history['loss'], label='Training Loss')\n",
        "plt.plot(history_fixed.history['val_loss'], label='Validation Loss')\n",
        "plt.title('Exploding Gradient Problem (Fixed)')\n",
        "plt.xlabel('Epochs')\n",
        "plt.ylabel('Loss')\n",
        "plt.legend()\n",
        "\n",
        "plt.tight_layout()\n",
        "plt.show()"
      ],
      "metadata": {
        "colab": {
          "base_uri": "https://localhost:8080/",
          "height": 487
        },
        "id": "6yMfwMJsxOQo",
        "outputId": "308cc93a-772a-41d5-e540-a46425c2cb03"
      },
      "execution_count": 13,
      "outputs": [
        {
          "output_type": "display_data",
          "data": {
            "text/plain": [
              "<Figure size 640x480 with 1 Axes>"
            ],
            "image/png": "[encoded data removed]"
          },
          "metadata": {}
        }
      ]
    },
    {
      "cell_type": "code",
      "source": [],
      "metadata": {
        "id": "S3AIeA6uxPVA"
      },
      "execution_count": null,
      "outputs": []
    }
  ]
}